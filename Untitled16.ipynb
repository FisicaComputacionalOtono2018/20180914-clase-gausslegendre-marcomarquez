{
  "nbformat": 4,
  "nbformat_minor": 0,
  "metadata": {
    "colab": {
      "name": "Untitled16.ipynb",
      "version": "0.3.2",
      "provenance": []
    },
    "kernelspec": {
      "name": "python3",
      "display_name": "Python 3"
    }
  },
  "cells": [
    {
      "metadata": {
        "id": "nXhJPgeifpYb",
        "colab_type": "code",
        "colab": {
          "base_uri": "https://localhost:8080/",
          "height": 34
        },
        "outputId": "15ca001b-5d6b-4bf9-d2d3-612b86c989d9"
      },
      "cell_type": "code",
      "source": [
        "import numpy as np\n",
        "def function(x):\n",
        "  return x**3+2*x**2\n",
        "\n",
        "def integral(n,liminf,limsup):\n",
        "  xi, weights = np.polynomial.legendre.leggauss(n)\n",
        "  numericalintegral=0\n",
        "  for i in range (0,n):\n",
        "    numericalintegral = numericalintegral + weights[i]*function((limsup-liminf)/2*xi[i]+(limsup+liminf)/2)\n",
        "  return ((limsup-liminf)/2)*numericalintegral\n",
        "grado=5\n",
        "print(integral(grado,1.0,5.0))\n"
      ],
      "execution_count": 6,
      "outputs": [
        {
          "output_type": "stream",
          "text": [
            "467.0833333333335\n"
          ],
          "name": "stdout"
        }
      ]
    }
  ]
}