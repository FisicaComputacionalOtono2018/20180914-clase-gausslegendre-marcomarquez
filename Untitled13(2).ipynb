{
  "nbformat": 4,
  "nbformat_minor": 0,
  "metadata": {
    "colab": {
      "name": "Untitled13.ipynb",
      "version": "0.3.2",
      "provenance": []
    },
    "kernelspec": {
      "name": "python3",
      "display_name": "Python 3"
    }
  },
  "cells": [
    {
      "metadata": {
        "id": "XRlmNaBUq5Ij",
        "colab_type": "code",
        "colab": {
          "base_uri": "https://localhost:8080/",
          "height": 104
        },
        "outputId": "f0ee4602-06f5-41aa-ff00-f108f0695061"
      },
      "cell_type": "code",
      "source": [
        "#programa\n",
        "\n",
        "from sympy import diff\n",
        "from sympy import Symbol\n",
        "x=Symbol(\"x\")\n",
        "\n",
        "#Factorial\n",
        "def factorial(t):\n",
        "  M=1\n",
        "  F=1\n",
        "  while M!=t:\n",
        "\t  M=M+1\n",
        "\t  F=F*M\n",
        "  #print(\"El factorial del numero \",n,\" es\", F)\n",
        "  return(F)\n",
        "\n",
        "def w(x,n):\n",
        "  return 2/(1-x**2)((valorderivadadelpolinomio)**2)\n",
        "\n",
        "def funcion(x,a,b):\n",
        "\n",
        "\n",
        "x=[0.1,0.57]\n",
        "n=int(input(\"dame el valor del grado del polinomio : \"))  \n",
        "\n",
        "#la funcion diff nos da la derivada de una funcion, y tiene la siguiente organizacion\n",
        "#diff(funcion, respecto a x, n=numero de veces que se quiere derivar la funcion)\n",
        "derivada=diff((((x**2)-1)**n),x,n)\n",
        "#print(derivada)\n",
        "\n",
        "\n",
        "\n",
        "derivadapoli=diff(((1/((2**n)*factorial(n)))*derivada),x)\n",
        "print(\"derivada de p:\", derivadapoli)\n",
        "\n",
        "k=float(input(\"dame el valor de x para evaluar  en la funcion: \" ))\n",
        "#derivada.evalf evalua nuestra funcion con valores de x iguales a k, donde k es dado por el usuario\n",
        "\n",
        "valor=derivada.evalf(subs={x:k})\n",
        "\n",
        "valorderivadadelpolinomio=derivadapoli.evalf(subs={x:k})\n",
        "\n",
        "Pn=(1/((2**n)*factorial(n))*(valor))\n",
        "\n",
        "sum=0\n",
        "for i in range (1,n+1):\n",
        "  sum=sum+w(x[i-1],i)*  \n",
        "\n",
        "#print(\"el valor de Pn para un valor x=\", k, \"y de grado n=\", n, \"es de: \", Pn)\n",
        "\n",
        "print(\"El valor del polinomio de legendre evaluado en x=\", k, \"es\", valorderivadadelpolinomio )\n",
        "\n",
        "\n",
        "\n"
      ],
      "execution_count": 14,
      "outputs": [
        {
          "output_type": "stream",
          "text": [
            "dame el valor del grado del polinomio : 2\n",
            "derivada de p: 3.0*x\n",
            "dame el valor de x para evaluar  en la funcion: 1\n",
            "el valor de Pn para un valor x= 1.0 y de grado n= 2 es de:  1.00000000000000\n",
            "El valor del polinomio de legendre evaluado en x= 1.0 es 3.00000000000000\n"
          ],
          "name": "stdout"
        }
      ]
    }
  ]
}