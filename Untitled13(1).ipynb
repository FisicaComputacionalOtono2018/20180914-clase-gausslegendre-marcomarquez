{
  "nbformat": 4,
  "nbformat_minor": 0,
  "metadata": {
    "colab": {
      "name": "Untitled13.ipynb",
      "version": "0.3.2",
      "provenance": []
    },
    "kernelspec": {
      "name": "python3",
      "display_name": "Python 3"
    }
  },
  "cells": [
    {
      "metadata": {
        "id": "XRlmNaBUq5Ij",
        "colab_type": "code",
        "colab": {
          "base_uri": "https://localhost:8080/",
          "height": 69
        },
        "outputId": "e6472518-1199-49f4-e701-c9e2cc34cee1"
      },
      "cell_type": "code",
      "source": [
        "#programa\n",
        "\n",
        "from sympy import diff\n",
        "from sympy import Symbol\n",
        "x=Symbol(\"x\")\n",
        "\n",
        "#Factorial\n",
        "def factorial(t):\n",
        "  M=1\n",
        "  F=1\n",
        "  while M!=t:\n",
        "\t  M=M+1\n",
        "\t  F=F*M\n",
        "  #print(\"El factorial del numero \",n,\" es\", F)\n",
        "  return(F)\n",
        "\n",
        "n=int(input(\"dame el valor del grado del polinomio : \"))  \n",
        "\n",
        "#la funcion diff nos da la derivada de una funcion, y tiene la siguiente organizacion\n",
        "#diff(funcion, respecto a x, n=numero de veces que se quiere derivar la funcion)\n",
        "derivada=diff((((x**2)-1)**n),x,n)\n",
        "#print(derivada)\n",
        "\n",
        "k=float(input(\"dame el valor de x para evaluar  en la funcion: \" ))\n",
        "#derivada.evalf evalua nuestra funcion con valores de x iguales a k, donde k es dado por el usuario\n",
        "valor=derivada.evalf(subs={x:k})\n",
        "#print(valor)\n",
        "\n",
        "Pn=(1/((2**n)*factorial(n))*(valor))\n",
        "print(\"el valor de Pn para un valor x=\", k, \"y de grado n=\", n, \"es de: \", Pn)"
      ],
      "execution_count": 3,
      "outputs": [
        {
          "output_type": "stream",
          "text": [
            "dame el valor del grado del polinomio : 2\n",
            "dame el valor de x para evaluar  en la funcion: 1\n",
            "el valor de Pn para un valor x= 1.0 y de grado n= 2 es de:  1.00000000000000\n"
          ],
          "name": "stdout"
        }
      ]
    }
  ]
}